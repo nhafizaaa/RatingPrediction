{
 "cells": [
  {
   "cell_type": "code",
   "execution_count": 21,
   "metadata": {},
   "outputs": [],
   "source": [
    "import pandas as pd\n",
    "data = pd.read_csv('supermarket_sales.csv')"
   ]
  },
  {
   "cell_type": "code",
   "execution_count": 22,
   "metadata": {},
   "outputs": [
    {
     "data": {
      "text/html": [
       "<div>\n",
       "<style scoped>\n",
       "    .dataframe tbody tr th:only-of-type {\n",
       "        vertical-align: middle;\n",
       "    }\n",
       "\n",
       "    .dataframe tbody tr th {\n",
       "        vertical-align: top;\n",
       "    }\n",
       "\n",
       "    .dataframe thead th {\n",
       "        text-align: right;\n",
       "    }\n",
       "</style>\n",
       "<table border=\"1\" class=\"dataframe\">\n",
       "  <thead>\n",
       "    <tr style=\"text-align: right;\">\n",
       "      <th></th>\n",
       "      <th>Invoice ID</th>\n",
       "      <th>Branch</th>\n",
       "      <th>City</th>\n",
       "      <th>Customer type</th>\n",
       "      <th>Gender</th>\n",
       "      <th>Product line</th>\n",
       "      <th>Unit price</th>\n",
       "      <th>Quantity</th>\n",
       "      <th>Tax 5%</th>\n",
       "      <th>Total</th>\n",
       "      <th>Date</th>\n",
       "      <th>Time</th>\n",
       "      <th>Payment</th>\n",
       "      <th>cogs</th>\n",
       "      <th>gross margin percentage</th>\n",
       "      <th>gross income</th>\n",
       "      <th>Rating</th>\n",
       "    </tr>\n",
       "  </thead>\n",
       "  <tbody>\n",
       "    <tr>\n",
       "      <th>0</th>\n",
       "      <td>750-67-8428</td>\n",
       "      <td>A</td>\n",
       "      <td>Yangon</td>\n",
       "      <td>Member</td>\n",
       "      <td>Female</td>\n",
       "      <td>Health and beauty</td>\n",
       "      <td>74.69</td>\n",
       "      <td>7</td>\n",
       "      <td>26.1415</td>\n",
       "      <td>548.9715</td>\n",
       "      <td>1/5/2019</td>\n",
       "      <td>13:08</td>\n",
       "      <td>Ewallet</td>\n",
       "      <td>522.83</td>\n",
       "      <td>4.761905</td>\n",
       "      <td>26.1415</td>\n",
       "      <td>9.1</td>\n",
       "    </tr>\n",
       "    <tr>\n",
       "      <th>1</th>\n",
       "      <td>226-31-3081</td>\n",
       "      <td>C</td>\n",
       "      <td>Naypyitaw</td>\n",
       "      <td>Normal</td>\n",
       "      <td>Female</td>\n",
       "      <td>Electronic accessories</td>\n",
       "      <td>15.28</td>\n",
       "      <td>5</td>\n",
       "      <td>3.8200</td>\n",
       "      <td>80.2200</td>\n",
       "      <td>3/8/2019</td>\n",
       "      <td>10:29</td>\n",
       "      <td>Cash</td>\n",
       "      <td>76.40</td>\n",
       "      <td>4.761905</td>\n",
       "      <td>3.8200</td>\n",
       "      <td>9.6</td>\n",
       "    </tr>\n",
       "    <tr>\n",
       "      <th>2</th>\n",
       "      <td>631-41-3108</td>\n",
       "      <td>A</td>\n",
       "      <td>Yangon</td>\n",
       "      <td>Normal</td>\n",
       "      <td>Male</td>\n",
       "      <td>Home and lifestyle</td>\n",
       "      <td>46.33</td>\n",
       "      <td>7</td>\n",
       "      <td>16.2155</td>\n",
       "      <td>340.5255</td>\n",
       "      <td>3/3/2019</td>\n",
       "      <td>13:23</td>\n",
       "      <td>Credit card</td>\n",
       "      <td>324.31</td>\n",
       "      <td>4.761905</td>\n",
       "      <td>16.2155</td>\n",
       "      <td>7.4</td>\n",
       "    </tr>\n",
       "    <tr>\n",
       "      <th>3</th>\n",
       "      <td>123-19-1176</td>\n",
       "      <td>A</td>\n",
       "      <td>Yangon</td>\n",
       "      <td>Member</td>\n",
       "      <td>Male</td>\n",
       "      <td>Health and beauty</td>\n",
       "      <td>58.22</td>\n",
       "      <td>8</td>\n",
       "      <td>23.2880</td>\n",
       "      <td>489.0480</td>\n",
       "      <td>1/27/2019</td>\n",
       "      <td>20:33</td>\n",
       "      <td>Ewallet</td>\n",
       "      <td>465.76</td>\n",
       "      <td>4.761905</td>\n",
       "      <td>23.2880</td>\n",
       "      <td>8.4</td>\n",
       "    </tr>\n",
       "    <tr>\n",
       "      <th>4</th>\n",
       "      <td>373-73-7910</td>\n",
       "      <td>A</td>\n",
       "      <td>Yangon</td>\n",
       "      <td>Normal</td>\n",
       "      <td>Male</td>\n",
       "      <td>Sports and travel</td>\n",
       "      <td>86.31</td>\n",
       "      <td>7</td>\n",
       "      <td>30.2085</td>\n",
       "      <td>634.3785</td>\n",
       "      <td>2/8/2019</td>\n",
       "      <td>10:37</td>\n",
       "      <td>Ewallet</td>\n",
       "      <td>604.17</td>\n",
       "      <td>4.761905</td>\n",
       "      <td>30.2085</td>\n",
       "      <td>5.3</td>\n",
       "    </tr>\n",
       "    <tr>\n",
       "      <th>...</th>\n",
       "      <td>...</td>\n",
       "      <td>...</td>\n",
       "      <td>...</td>\n",
       "      <td>...</td>\n",
       "      <td>...</td>\n",
       "      <td>...</td>\n",
       "      <td>...</td>\n",
       "      <td>...</td>\n",
       "      <td>...</td>\n",
       "      <td>...</td>\n",
       "      <td>...</td>\n",
       "      <td>...</td>\n",
       "      <td>...</td>\n",
       "      <td>...</td>\n",
       "      <td>...</td>\n",
       "      <td>...</td>\n",
       "      <td>...</td>\n",
       "    </tr>\n",
       "    <tr>\n",
       "      <th>995</th>\n",
       "      <td>233-67-5758</td>\n",
       "      <td>C</td>\n",
       "      <td>Naypyitaw</td>\n",
       "      <td>Normal</td>\n",
       "      <td>Male</td>\n",
       "      <td>Health and beauty</td>\n",
       "      <td>40.35</td>\n",
       "      <td>1</td>\n",
       "      <td>2.0175</td>\n",
       "      <td>42.3675</td>\n",
       "      <td>1/29/2019</td>\n",
       "      <td>13:46</td>\n",
       "      <td>Ewallet</td>\n",
       "      <td>40.35</td>\n",
       "      <td>4.761905</td>\n",
       "      <td>2.0175</td>\n",
       "      <td>6.2</td>\n",
       "    </tr>\n",
       "    <tr>\n",
       "      <th>996</th>\n",
       "      <td>303-96-2227</td>\n",
       "      <td>B</td>\n",
       "      <td>Mandalay</td>\n",
       "      <td>Normal</td>\n",
       "      <td>Female</td>\n",
       "      <td>Home and lifestyle</td>\n",
       "      <td>97.38</td>\n",
       "      <td>10</td>\n",
       "      <td>48.6900</td>\n",
       "      <td>1022.4900</td>\n",
       "      <td>3/2/2019</td>\n",
       "      <td>17:16</td>\n",
       "      <td>Ewallet</td>\n",
       "      <td>973.80</td>\n",
       "      <td>4.761905</td>\n",
       "      <td>48.6900</td>\n",
       "      <td>4.4</td>\n",
       "    </tr>\n",
       "    <tr>\n",
       "      <th>997</th>\n",
       "      <td>727-02-1313</td>\n",
       "      <td>A</td>\n",
       "      <td>Yangon</td>\n",
       "      <td>Member</td>\n",
       "      <td>Male</td>\n",
       "      <td>Food and beverages</td>\n",
       "      <td>31.84</td>\n",
       "      <td>1</td>\n",
       "      <td>1.5920</td>\n",
       "      <td>33.4320</td>\n",
       "      <td>2/9/2019</td>\n",
       "      <td>13:22</td>\n",
       "      <td>Cash</td>\n",
       "      <td>31.84</td>\n",
       "      <td>4.761905</td>\n",
       "      <td>1.5920</td>\n",
       "      <td>7.7</td>\n",
       "    </tr>\n",
       "    <tr>\n",
       "      <th>998</th>\n",
       "      <td>347-56-2442</td>\n",
       "      <td>A</td>\n",
       "      <td>Yangon</td>\n",
       "      <td>Normal</td>\n",
       "      <td>Male</td>\n",
       "      <td>Home and lifestyle</td>\n",
       "      <td>65.82</td>\n",
       "      <td>1</td>\n",
       "      <td>3.2910</td>\n",
       "      <td>69.1110</td>\n",
       "      <td>2/22/2019</td>\n",
       "      <td>15:33</td>\n",
       "      <td>Cash</td>\n",
       "      <td>65.82</td>\n",
       "      <td>4.761905</td>\n",
       "      <td>3.2910</td>\n",
       "      <td>4.1</td>\n",
       "    </tr>\n",
       "    <tr>\n",
       "      <th>999</th>\n",
       "      <td>849-09-3807</td>\n",
       "      <td>A</td>\n",
       "      <td>Yangon</td>\n",
       "      <td>Member</td>\n",
       "      <td>Female</td>\n",
       "      <td>Fashion accessories</td>\n",
       "      <td>88.34</td>\n",
       "      <td>7</td>\n",
       "      <td>30.9190</td>\n",
       "      <td>649.2990</td>\n",
       "      <td>2/18/2019</td>\n",
       "      <td>13:28</td>\n",
       "      <td>Cash</td>\n",
       "      <td>618.38</td>\n",
       "      <td>4.761905</td>\n",
       "      <td>30.9190</td>\n",
       "      <td>6.6</td>\n",
       "    </tr>\n",
       "  </tbody>\n",
       "</table>\n",
       "<p>1000 rows × 17 columns</p>\n",
       "</div>"
      ],
      "text/plain": [
       "      Invoice ID Branch       City Customer type  Gender  \\\n",
       "0    750-67-8428      A     Yangon        Member  Female   \n",
       "1    226-31-3081      C  Naypyitaw        Normal  Female   \n",
       "2    631-41-3108      A     Yangon        Normal    Male   \n",
       "3    123-19-1176      A     Yangon        Member    Male   \n",
       "4    373-73-7910      A     Yangon        Normal    Male   \n",
       "..           ...    ...        ...           ...     ...   \n",
       "995  233-67-5758      C  Naypyitaw        Normal    Male   \n",
       "996  303-96-2227      B   Mandalay        Normal  Female   \n",
       "997  727-02-1313      A     Yangon        Member    Male   \n",
       "998  347-56-2442      A     Yangon        Normal    Male   \n",
       "999  849-09-3807      A     Yangon        Member  Female   \n",
       "\n",
       "               Product line  Unit price  Quantity   Tax 5%      Total  \\\n",
       "0         Health and beauty       74.69         7  26.1415   548.9715   \n",
       "1    Electronic accessories       15.28         5   3.8200    80.2200   \n",
       "2        Home and lifestyle       46.33         7  16.2155   340.5255   \n",
       "3         Health and beauty       58.22         8  23.2880   489.0480   \n",
       "4         Sports and travel       86.31         7  30.2085   634.3785   \n",
       "..                      ...         ...       ...      ...        ...   \n",
       "995       Health and beauty       40.35         1   2.0175    42.3675   \n",
       "996      Home and lifestyle       97.38        10  48.6900  1022.4900   \n",
       "997      Food and beverages       31.84         1   1.5920    33.4320   \n",
       "998      Home and lifestyle       65.82         1   3.2910    69.1110   \n",
       "999     Fashion accessories       88.34         7  30.9190   649.2990   \n",
       "\n",
       "          Date   Time      Payment    cogs  gross margin percentage  \\\n",
       "0     1/5/2019  13:08      Ewallet  522.83                 4.761905   \n",
       "1     3/8/2019  10:29         Cash   76.40                 4.761905   \n",
       "2     3/3/2019  13:23  Credit card  324.31                 4.761905   \n",
       "3    1/27/2019  20:33      Ewallet  465.76                 4.761905   \n",
       "4     2/8/2019  10:37      Ewallet  604.17                 4.761905   \n",
       "..         ...    ...          ...     ...                      ...   \n",
       "995  1/29/2019  13:46      Ewallet   40.35                 4.761905   \n",
       "996   3/2/2019  17:16      Ewallet  973.80                 4.761905   \n",
       "997   2/9/2019  13:22         Cash   31.84                 4.761905   \n",
       "998  2/22/2019  15:33         Cash   65.82                 4.761905   \n",
       "999  2/18/2019  13:28         Cash  618.38                 4.761905   \n",
       "\n",
       "     gross income  Rating  \n",
       "0         26.1415     9.1  \n",
       "1          3.8200     9.6  \n",
       "2         16.2155     7.4  \n",
       "3         23.2880     8.4  \n",
       "4         30.2085     5.3  \n",
       "..            ...     ...  \n",
       "995        2.0175     6.2  \n",
       "996       48.6900     4.4  \n",
       "997        1.5920     7.7  \n",
       "998        3.2910     4.1  \n",
       "999       30.9190     6.6  \n",
       "\n",
       "[1000 rows x 17 columns]"
      ]
     },
     "execution_count": 22,
     "metadata": {},
     "output_type": "execute_result"
    }
   ],
   "source": [
    "data"
   ]
  },
  {
   "cell_type": "code",
   "execution_count": 23,
   "metadata": {},
   "outputs": [
    {
     "data": {
      "text/html": [
       "<div>\n",
       "<style scoped>\n",
       "    .dataframe tbody tr th:only-of-type {\n",
       "        vertical-align: middle;\n",
       "    }\n",
       "\n",
       "    .dataframe tbody tr th {\n",
       "        vertical-align: top;\n",
       "    }\n",
       "\n",
       "    .dataframe thead th {\n",
       "        text-align: right;\n",
       "    }\n",
       "</style>\n",
       "<table border=\"1\" class=\"dataframe\">\n",
       "  <thead>\n",
       "    <tr style=\"text-align: right;\">\n",
       "      <th></th>\n",
       "      <th>Unit price</th>\n",
       "      <th>Quantity</th>\n",
       "      <th>Tax 5%</th>\n",
       "      <th>Total</th>\n",
       "      <th>Rating</th>\n",
       "    </tr>\n",
       "  </thead>\n",
       "  <tbody>\n",
       "    <tr>\n",
       "      <th>0</th>\n",
       "      <td>74.69</td>\n",
       "      <td>7</td>\n",
       "      <td>26.1415</td>\n",
       "      <td>548.9715</td>\n",
       "      <td>9.1</td>\n",
       "    </tr>\n",
       "    <tr>\n",
       "      <th>1</th>\n",
       "      <td>15.28</td>\n",
       "      <td>5</td>\n",
       "      <td>3.8200</td>\n",
       "      <td>80.2200</td>\n",
       "      <td>9.6</td>\n",
       "    </tr>\n",
       "    <tr>\n",
       "      <th>2</th>\n",
       "      <td>46.33</td>\n",
       "      <td>7</td>\n",
       "      <td>16.2155</td>\n",
       "      <td>340.5255</td>\n",
       "      <td>7.4</td>\n",
       "    </tr>\n",
       "    <tr>\n",
       "      <th>3</th>\n",
       "      <td>58.22</td>\n",
       "      <td>8</td>\n",
       "      <td>23.2880</td>\n",
       "      <td>489.0480</td>\n",
       "      <td>8.4</td>\n",
       "    </tr>\n",
       "    <tr>\n",
       "      <th>4</th>\n",
       "      <td>86.31</td>\n",
       "      <td>7</td>\n",
       "      <td>30.2085</td>\n",
       "      <td>634.3785</td>\n",
       "      <td>5.3</td>\n",
       "    </tr>\n",
       "    <tr>\n",
       "      <th>...</th>\n",
       "      <td>...</td>\n",
       "      <td>...</td>\n",
       "      <td>...</td>\n",
       "      <td>...</td>\n",
       "      <td>...</td>\n",
       "    </tr>\n",
       "    <tr>\n",
       "      <th>995</th>\n",
       "      <td>40.35</td>\n",
       "      <td>1</td>\n",
       "      <td>2.0175</td>\n",
       "      <td>42.3675</td>\n",
       "      <td>6.2</td>\n",
       "    </tr>\n",
       "    <tr>\n",
       "      <th>996</th>\n",
       "      <td>97.38</td>\n",
       "      <td>10</td>\n",
       "      <td>48.6900</td>\n",
       "      <td>1022.4900</td>\n",
       "      <td>4.4</td>\n",
       "    </tr>\n",
       "    <tr>\n",
       "      <th>997</th>\n",
       "      <td>31.84</td>\n",
       "      <td>1</td>\n",
       "      <td>1.5920</td>\n",
       "      <td>33.4320</td>\n",
       "      <td>7.7</td>\n",
       "    </tr>\n",
       "    <tr>\n",
       "      <th>998</th>\n",
       "      <td>65.82</td>\n",
       "      <td>1</td>\n",
       "      <td>3.2910</td>\n",
       "      <td>69.1110</td>\n",
       "      <td>4.1</td>\n",
       "    </tr>\n",
       "    <tr>\n",
       "      <th>999</th>\n",
       "      <td>88.34</td>\n",
       "      <td>7</td>\n",
       "      <td>30.9190</td>\n",
       "      <td>649.2990</td>\n",
       "      <td>6.6</td>\n",
       "    </tr>\n",
       "  </tbody>\n",
       "</table>\n",
       "<p>1000 rows × 5 columns</p>\n",
       "</div>"
      ],
      "text/plain": [
       "     Unit price  Quantity   Tax 5%      Total  Rating\n",
       "0         74.69         7  26.1415   548.9715     9.1\n",
       "1         15.28         5   3.8200    80.2200     9.6\n",
       "2         46.33         7  16.2155   340.5255     7.4\n",
       "3         58.22         8  23.2880   489.0480     8.4\n",
       "4         86.31         7  30.2085   634.3785     5.3\n",
       "..          ...       ...      ...        ...     ...\n",
       "995       40.35         1   2.0175    42.3675     6.2\n",
       "996       97.38        10  48.6900  1022.4900     4.4\n",
       "997       31.84         1   1.5920    33.4320     7.7\n",
       "998       65.82         1   3.2910    69.1110     4.1\n",
       "999       88.34         7  30.9190   649.2990     6.6\n",
       "\n",
       "[1000 rows x 5 columns]"
      ]
     },
     "execution_count": 23,
     "metadata": {},
     "output_type": "execute_result"
    }
   ],
   "source": [
    "data_input = data.drop(columns = ['Invoice ID','Branch','City','Customer type','Gender','Product line','Date','Time','Payment','cogs','gross margin percentage','gross income'])\n",
    "data_input"
   ]
  },
  {
   "cell_type": "code",
   "execution_count": null,
   "metadata": {},
   "outputs": [],
   "source": []
  },
  {
   "cell_type": "code",
   "execution_count": 24,
   "metadata": {},
   "outputs": [
    {
     "data": {
      "text/plain": [
       "0      9.1\n",
       "1      9.6\n",
       "2      7.4\n",
       "3      8.4\n",
       "4      5.3\n",
       "      ... \n",
       "995    6.2\n",
       "996    4.4\n",
       "997    7.7\n",
       "998    4.1\n",
       "999    6.6\n",
       "Name: Rating, Length: 1000, dtype: float64"
      ]
     },
     "execution_count": 24,
     "metadata": {},
     "output_type": "execute_result"
    }
   ],
   "source": [
    "data_target = data ['Rating']\n",
    "data_target"
   ]
  },
  {
   "cell_type": "code",
   "execution_count": 25,
   "metadata": {},
   "outputs": [],
   "source": [
    "from sklearn.model_selection import train_test_split #thisfunctionssplitintofourdatabelow\n",
    "input_train, input_test, target_train, target_test = train_test_split(data_input,data_target,test_size = 0.2)"
   ]
  },
  {
   "cell_type": "code",
   "execution_count": 26,
   "metadata": {},
   "outputs": [
    {
     "data": {
      "text/html": [
       "<div>\n",
       "<style scoped>\n",
       "    .dataframe tbody tr th:only-of-type {\n",
       "        vertical-align: middle;\n",
       "    }\n",
       "\n",
       "    .dataframe tbody tr th {\n",
       "        vertical-align: top;\n",
       "    }\n",
       "\n",
       "    .dataframe thead th {\n",
       "        text-align: right;\n",
       "    }\n",
       "</style>\n",
       "<table border=\"1\" class=\"dataframe\">\n",
       "  <thead>\n",
       "    <tr style=\"text-align: right;\">\n",
       "      <th></th>\n",
       "      <th>Unit price</th>\n",
       "      <th>Quantity</th>\n",
       "      <th>Tax 5%</th>\n",
       "      <th>Total</th>\n",
       "      <th>Rating</th>\n",
       "    </tr>\n",
       "  </thead>\n",
       "  <tbody>\n",
       "    <tr>\n",
       "      <th>905</th>\n",
       "      <td>78.38</td>\n",
       "      <td>4</td>\n",
       "      <td>15.6760</td>\n",
       "      <td>329.1960</td>\n",
       "      <td>7.9</td>\n",
       "    </tr>\n",
       "    <tr>\n",
       "      <th>980</th>\n",
       "      <td>59.59</td>\n",
       "      <td>4</td>\n",
       "      <td>11.9180</td>\n",
       "      <td>250.2780</td>\n",
       "      <td>9.8</td>\n",
       "    </tr>\n",
       "    <tr>\n",
       "      <th>158</th>\n",
       "      <td>97.22</td>\n",
       "      <td>9</td>\n",
       "      <td>43.7490</td>\n",
       "      <td>918.7290</td>\n",
       "      <td>6.0</td>\n",
       "    </tr>\n",
       "    <tr>\n",
       "      <th>223</th>\n",
       "      <td>12.54</td>\n",
       "      <td>1</td>\n",
       "      <td>0.6270</td>\n",
       "      <td>13.1670</td>\n",
       "      <td>8.2</td>\n",
       "    </tr>\n",
       "    <tr>\n",
       "      <th>807</th>\n",
       "      <td>50.23</td>\n",
       "      <td>4</td>\n",
       "      <td>10.0460</td>\n",
       "      <td>210.9660</td>\n",
       "      <td>9.0</td>\n",
       "    </tr>\n",
       "    <tr>\n",
       "      <th>...</th>\n",
       "      <td>...</td>\n",
       "      <td>...</td>\n",
       "      <td>...</td>\n",
       "      <td>...</td>\n",
       "      <td>...</td>\n",
       "    </tr>\n",
       "    <tr>\n",
       "      <th>0</th>\n",
       "      <td>74.69</td>\n",
       "      <td>7</td>\n",
       "      <td>26.1415</td>\n",
       "      <td>548.9715</td>\n",
       "      <td>9.1</td>\n",
       "    </tr>\n",
       "    <tr>\n",
       "      <th>986</th>\n",
       "      <td>14.76</td>\n",
       "      <td>2</td>\n",
       "      <td>1.4760</td>\n",
       "      <td>30.9960</td>\n",
       "      <td>4.3</td>\n",
       "    </tr>\n",
       "    <tr>\n",
       "      <th>966</th>\n",
       "      <td>33.30</td>\n",
       "      <td>9</td>\n",
       "      <td>14.9850</td>\n",
       "      <td>314.6850</td>\n",
       "      <td>7.2</td>\n",
       "    </tr>\n",
       "    <tr>\n",
       "      <th>277</th>\n",
       "      <td>95.42</td>\n",
       "      <td>4</td>\n",
       "      <td>19.0840</td>\n",
       "      <td>400.7640</td>\n",
       "      <td>6.4</td>\n",
       "    </tr>\n",
       "    <tr>\n",
       "      <th>792</th>\n",
       "      <td>97.37</td>\n",
       "      <td>10</td>\n",
       "      <td>48.6850</td>\n",
       "      <td>1022.3850</td>\n",
       "      <td>4.9</td>\n",
       "    </tr>\n",
       "  </tbody>\n",
       "</table>\n",
       "<p>800 rows × 5 columns</p>\n",
       "</div>"
      ],
      "text/plain": [
       "     Unit price  Quantity   Tax 5%      Total  Rating\n",
       "905       78.38         4  15.6760   329.1960     7.9\n",
       "980       59.59         4  11.9180   250.2780     9.8\n",
       "158       97.22         9  43.7490   918.7290     6.0\n",
       "223       12.54         1   0.6270    13.1670     8.2\n",
       "807       50.23         4  10.0460   210.9660     9.0\n",
       "..          ...       ...      ...        ...     ...\n",
       "0         74.69         7  26.1415   548.9715     9.1\n",
       "986       14.76         2   1.4760    30.9960     4.3\n",
       "966       33.30         9  14.9850   314.6850     7.2\n",
       "277       95.42         4  19.0840   400.7640     6.4\n",
       "792       97.37        10  48.6850  1022.3850     4.9\n",
       "\n",
       "[800 rows x 5 columns]"
      ]
     },
     "execution_count": 26,
     "metadata": {},
     "output_type": "execute_result"
    }
   ],
   "source": [
    "input_train"
   ]
  },
  {
   "cell_type": "code",
   "execution_count": 27,
   "metadata": {},
   "outputs": [
    {
     "data": {
      "text/html": [
       "<div>\n",
       "<style scoped>\n",
       "    .dataframe tbody tr th:only-of-type {\n",
       "        vertical-align: middle;\n",
       "    }\n",
       "\n",
       "    .dataframe tbody tr th {\n",
       "        vertical-align: top;\n",
       "    }\n",
       "\n",
       "    .dataframe thead th {\n",
       "        text-align: right;\n",
       "    }\n",
       "</style>\n",
       "<table border=\"1\" class=\"dataframe\">\n",
       "  <thead>\n",
       "    <tr style=\"text-align: right;\">\n",
       "      <th></th>\n",
       "      <th>Unit price</th>\n",
       "      <th>Quantity</th>\n",
       "      <th>Tax 5%</th>\n",
       "      <th>Total</th>\n",
       "      <th>Rating</th>\n",
       "    </tr>\n",
       "  </thead>\n",
       "  <tbody>\n",
       "    <tr>\n",
       "      <th>294</th>\n",
       "      <td>18.11</td>\n",
       "      <td>10</td>\n",
       "      <td>9.0550</td>\n",
       "      <td>190.1550</td>\n",
       "      <td>5.9</td>\n",
       "    </tr>\n",
       "    <tr>\n",
       "      <th>730</th>\n",
       "      <td>22.32</td>\n",
       "      <td>4</td>\n",
       "      <td>4.4640</td>\n",
       "      <td>93.7440</td>\n",
       "      <td>4.4</td>\n",
       "    </tr>\n",
       "    <tr>\n",
       "      <th>77</th>\n",
       "      <td>20.01</td>\n",
       "      <td>9</td>\n",
       "      <td>9.0045</td>\n",
       "      <td>189.0945</td>\n",
       "      <td>5.7</td>\n",
       "    </tr>\n",
       "    <tr>\n",
       "      <th>853</th>\n",
       "      <td>52.79</td>\n",
       "      <td>10</td>\n",
       "      <td>26.3950</td>\n",
       "      <td>554.2950</td>\n",
       "      <td>10.0</td>\n",
       "    </tr>\n",
       "    <tr>\n",
       "      <th>209</th>\n",
       "      <td>99.73</td>\n",
       "      <td>9</td>\n",
       "      <td>44.8785</td>\n",
       "      <td>942.4485</td>\n",
       "      <td>6.5</td>\n",
       "    </tr>\n",
       "    <tr>\n",
       "      <th>...</th>\n",
       "      <td>...</td>\n",
       "      <td>...</td>\n",
       "      <td>...</td>\n",
       "      <td>...</td>\n",
       "      <td>...</td>\n",
       "    </tr>\n",
       "    <tr>\n",
       "      <th>280</th>\n",
       "      <td>69.96</td>\n",
       "      <td>8</td>\n",
       "      <td>27.9840</td>\n",
       "      <td>587.6640</td>\n",
       "      <td>6.4</td>\n",
       "    </tr>\n",
       "    <tr>\n",
       "      <th>855</th>\n",
       "      <td>36.51</td>\n",
       "      <td>9</td>\n",
       "      <td>16.4295</td>\n",
       "      <td>345.0195</td>\n",
       "      <td>4.2</td>\n",
       "    </tr>\n",
       "    <tr>\n",
       "      <th>437</th>\n",
       "      <td>33.99</td>\n",
       "      <td>6</td>\n",
       "      <td>10.1970</td>\n",
       "      <td>214.1370</td>\n",
       "      <td>7.7</td>\n",
       "    </tr>\n",
       "    <tr>\n",
       "      <th>458</th>\n",
       "      <td>46.57</td>\n",
       "      <td>10</td>\n",
       "      <td>23.2850</td>\n",
       "      <td>488.9850</td>\n",
       "      <td>7.6</td>\n",
       "    </tr>\n",
       "    <tr>\n",
       "      <th>504</th>\n",
       "      <td>88.45</td>\n",
       "      <td>1</td>\n",
       "      <td>4.4225</td>\n",
       "      <td>92.8725</td>\n",
       "      <td>9.5</td>\n",
       "    </tr>\n",
       "  </tbody>\n",
       "</table>\n",
       "<p>200 rows × 5 columns</p>\n",
       "</div>"
      ],
      "text/plain": [
       "     Unit price  Quantity   Tax 5%     Total  Rating\n",
       "294       18.11        10   9.0550  190.1550     5.9\n",
       "730       22.32         4   4.4640   93.7440     4.4\n",
       "77        20.01         9   9.0045  189.0945     5.7\n",
       "853       52.79        10  26.3950  554.2950    10.0\n",
       "209       99.73         9  44.8785  942.4485     6.5\n",
       "..          ...       ...      ...       ...     ...\n",
       "280       69.96         8  27.9840  587.6640     6.4\n",
       "855       36.51         9  16.4295  345.0195     4.2\n",
       "437       33.99         6  10.1970  214.1370     7.7\n",
       "458       46.57        10  23.2850  488.9850     7.6\n",
       "504       88.45         1   4.4225   92.8725     9.5\n",
       "\n",
       "[200 rows x 5 columns]"
      ]
     },
     "execution_count": 27,
     "metadata": {},
     "output_type": "execute_result"
    }
   ],
   "source": [
    "input_test"
   ]
  },
  {
   "cell_type": "code",
   "execution_count": 28,
   "metadata": {},
   "outputs": [
    {
     "data": {
      "text/plain": [
       "SVR()"
      ]
     },
     "execution_count": 28,
     "metadata": {},
     "output_type": "execute_result"
    }
   ],
   "source": [
    "from sklearn.svm import SVR \n",
    "regression = SVR (kernel = 'rbf')\n",
    "regression.fit(input_train,target_train)"
   ]
  },
  {
   "cell_type": "code",
   "execution_count": 29,
   "metadata": {},
   "outputs": [
    {
     "data": {
      "text/plain": [
       "array([7.09832384, 6.84615463, 7.0935471 , 6.82722912, 6.49964259,\n",
       "       6.84948709, 6.69855764, 7.09292081, 6.89590131, 7.02415807,\n",
       "       6.94572904, 6.58993446, 7.05496733, 7.02618573, 6.82389506,\n",
       "       6.49122542, 7.17279155, 6.88231116, 6.64557399, 6.71899997,\n",
       "       6.87968868, 7.05111906, 6.90281541, 7.12514045, 6.63342984,\n",
       "       6.59192619, 6.64109055, 6.65145152, 6.83799826, 7.14053779,\n",
       "       7.13454599, 7.03268758, 6.6486062 , 6.70210356, 6.53787628,\n",
       "       7.1260203 , 6.76150745, 6.83758667, 6.703014  , 6.98723481,\n",
       "       6.73769156, 6.99627344, 7.1477802 , 7.05941213, 6.97660743,\n",
       "       6.95012351, 6.92154754, 6.99094125, 7.0930463 , 7.13561784,\n",
       "       7.04308834, 7.17221118, 7.10601918, 6.9326307 , 6.55472332,\n",
       "       7.00341942, 6.93478147, 7.08915085, 7.09004571, 6.93951235,\n",
       "       6.67938778, 6.8860778 , 6.65683115, 6.95010686, 6.72586016,\n",
       "       6.82369577, 6.49304737, 7.02240505, 6.80194331, 6.79159625,\n",
       "       6.55139939, 6.72669256, 6.94096585, 6.9322683 , 7.09984273,\n",
       "       7.08241702, 7.13085809, 7.06193912, 7.13856508, 7.02560083,\n",
       "       7.10045331, 6.93737149, 6.56020548, 6.83956916, 7.08177699,\n",
       "       6.93720536, 7.09810609, 6.82764275, 7.03749967, 6.91009521,\n",
       "       6.51329343, 7.0456141 , 7.15584962, 7.08695548, 7.1631909 ,\n",
       "       7.08514799, 7.10358659, 6.97212111, 6.64208415, 6.59009357,\n",
       "       7.027718  , 6.6070939 , 6.51186424, 7.10987972, 7.18906103,\n",
       "       6.9209986 , 6.93228598, 6.78809356, 7.12922844, 6.97961141,\n",
       "       7.18097717, 6.50603309, 6.83157354, 7.10977657, 6.52484287,\n",
       "       6.83127486, 7.17195681, 6.89741361, 6.53911487, 6.75235897,\n",
       "       6.88897658, 6.52967049, 7.06318974, 6.48669452, 7.08318612,\n",
       "       7.11185449, 6.73705171, 6.71146671, 7.11121327, 6.7908959 ,\n",
       "       6.74930592, 6.75039951, 6.87836925, 6.59546333, 7.16397227,\n",
       "       6.65946286, 7.01680416, 7.07849353, 6.98759018, 6.96515152,\n",
       "       7.10043589, 7.09389014, 6.63181483, 6.55298861, 7.11148793,\n",
       "       7.14329849, 6.78851025, 7.11390395, 6.91628613, 7.08858808,\n",
       "       6.97479369, 7.00985913, 7.03047891, 6.75990298, 6.91669499,\n",
       "       6.85395105, 7.05372393, 6.49592437, 6.84005731, 7.03852262,\n",
       "       6.96079377, 7.09697913, 6.98226577, 6.98513336, 6.50046142,\n",
       "       6.9199409 , 6.86753205, 7.12759785, 6.54284384, 7.11632325,\n",
       "       7.09047045, 6.6520077 , 6.96585885, 7.07413075, 7.06245836,\n",
       "       7.09864932, 7.00998594, 6.92905863, 7.1686147 , 6.61113468,\n",
       "       6.75900463, 6.85853237, 6.5254365 , 7.14062463, 7.15569088,\n",
       "       6.54789645, 6.82350929, 6.89283151, 7.16612696, 6.76786102,\n",
       "       7.14526315, 6.96722904, 7.1161427 , 7.0421646 , 6.64334148,\n",
       "       6.73514774, 7.08671969, 7.14454387, 6.91367938, 6.92043225])"
      ]
     },
     "execution_count": 29,
     "metadata": {},
     "output_type": "execute_result"
    }
   ],
   "source": [
    "predicted_output = regression.predict(input_test)\n",
    "predicted_output"
   ]
  },
  {
   "cell_type": "code",
   "execution_count": 30,
   "metadata": {},
   "outputs": [
    {
     "data": {
      "text/plain": [
       "3.21822082279981"
      ]
     },
     "execution_count": 30,
     "metadata": {},
     "output_type": "execute_result"
    }
   ],
   "source": [
    "from sklearn.metrics import mean_squared_error\n",
    "mse = mean_squared_error (predicted_output,target_test)\n",
    "mse"
   ]
  },
  {
   "cell_type": "code",
   "execution_count": 31,
   "metadata": {},
   "outputs": [
    {
     "data": {
      "text/plain": [
       "SVR(kernel='linear')"
      ]
     },
     "execution_count": 31,
     "metadata": {},
     "output_type": "execute_result"
    }
   ],
   "source": [
    "regressionLinear = SVR (kernel = 'linear')\n",
    "regressionLinear.fit (input_train,target_train)"
   ]
  },
  {
   "cell_type": "code",
   "execution_count": 32,
   "metadata": {},
   "outputs": [
    {
     "data": {
      "text/plain": [
       "array([5.93764155, 4.48712488, 5.74422582, 9.90037919, 6.51703663,\n",
       "       5.83939963, 7.86899749, 5.06494864, 6.70934309, 8.7398531 ,\n",
       "       6.32195775, 6.22720582, 9.02975779, 8.54676992, 9.80123154,\n",
       "       6.61418578, 9.70635841, 9.32046592, 8.54615684, 8.35210446,\n",
       "       8.83692606, 4.8724613 , 7.00044677, 4.29455011, 6.22621931,\n",
       "       5.06775689, 9.22299327, 9.41573777, 7.96568633, 5.16409959,\n",
       "       8.15808056, 6.70911274, 5.25961514, 4.19758732, 7.96690226,\n",
       "       5.55090613, 4.3908171 , 5.83754576, 7.6770391 , 6.61390272,\n",
       "       8.93262652, 4.97061511, 5.64734679, 9.41421184, 6.42065653,\n",
       "       5.4537335 , 7.18974264, 8.54441357, 8.15935218, 6.51708168,\n",
       "       7.77230284, 8.44969992, 9.60692643, 7.19201023, 9.41711164,\n",
       "       5.06726368, 4.58358305, 7.09346793, 6.03206196, 8.34949738,\n",
       "       8.35249978, 8.45010863, 7.77367181, 8.1606387 , 4.48784554,\n",
       "       4.48617979, 7.29075476, 6.12799846, 4.87132216, 4.39009882,\n",
       "       4.19699207, 6.3221072 , 7.48108609, 5.06683513, 9.80254224,\n",
       "       5.16299753, 6.61250346, 4.29434446, 4.97077233, 7.67573183,\n",
       "       4.29263677, 9.80336336, 4.58410354, 8.83611424, 4.48570414,\n",
       "       9.70289645, 8.35159533, 6.12766301, 4.67778785, 5.74432921,\n",
       "       4.29354111, 6.22439088, 8.64198758, 9.22381679, 8.44944817,\n",
       "       5.74389205, 5.93551698, 5.54908259, 6.71049261, 5.1635657 ,\n",
       "       7.38632864, 5.26106198, 6.51709049, 4.67976858, 8.5472532 ,\n",
       "       5.35712718, 9.02930295, 4.48743517, 5.45374093, 9.51377212,\n",
       "       9.60913723, 8.35343714, 6.61323504, 4.29436873, 5.16440707,\n",
       "       4.68010436, 8.25644235, 7.8667673 , 7.38699239, 5.55067421,\n",
       "       8.74055189, 7.5797263 , 5.16054971, 4.58448621, 4.09864715,\n",
       "       4.39024002, 6.80531465, 6.22686055, 4.29322598, 8.73879249,\n",
       "       9.8985042 , 4.96856817, 8.0635038 , 9.0305035 , 7.38729113,\n",
       "       6.51682178, 6.90136574, 4.96889821, 8.54708442, 7.38714464,\n",
       "       9.60918029, 7.67532056, 4.1008828 , 5.74432224, 8.44897978,\n",
       "       9.70599541, 9.32012254, 9.12322275, 9.51155198, 4.87159296,\n",
       "       8.35105308, 7.77212043, 7.87018761, 9.70496738, 6.99876594,\n",
       "       8.06378735, 9.51093135, 8.64388614, 6.32393285, 5.74313681,\n",
       "       8.54699593, 6.70861829, 6.22659027, 8.73819207, 6.71034526,\n",
       "       6.9026893 , 7.28715932, 9.80282707, 7.48311588, 7.38670542,\n",
       "       7.00081282, 6.32354319, 8.1597392 , 4.19778789, 5.54770693,\n",
       "       7.57843328, 8.54624775, 9.31828815, 7.67679847, 9.41644938,\n",
       "       6.41842963, 5.74254468, 4.77683983, 9.80067926, 8.06351872,\n",
       "       7.29075968, 5.06439392, 6.61015354, 9.41521476, 4.77697469,\n",
       "       9.12646127, 4.8717033 , 6.03384589, 5.550231  , 4.68041386,\n",
       "       6.42018423, 4.29435578, 7.67666707, 7.58072401, 9.41312932])"
      ]
     },
     "execution_count": 32,
     "metadata": {},
     "output_type": "execute_result"
    }
   ],
   "source": [
    "predicted_outputLinear = regressionLinear.predict(input_test)\n",
    "predicted_outputLinear"
   ]
  },
  {
   "cell_type": "code",
   "execution_count": 33,
   "metadata": {},
   "outputs": [
    {
     "data": {
      "text/plain": [
       "0.003652320541648104"
      ]
     },
     "execution_count": 33,
     "metadata": {},
     "output_type": "execute_result"
    }
   ],
   "source": [
    "mseLinear = mean_squared_error (predicted_outputLinear, target_test)\n",
    "mseLinear"
   ]
  },
  {
   "cell_type": "code",
   "execution_count": 34,
   "metadata": {},
   "outputs": [
    {
     "data": {
      "text/plain": [
       "SVR(kernel='sigmoid')"
      ]
     },
     "execution_count": 34,
     "metadata": {},
     "output_type": "execute_result"
    }
   ],
   "source": [
    "regressionSigmoid = SVR (kernel = 'sigmoid')\n",
    "regressionSigmoid.fit (input_train,target_train)"
   ]
  },
  {
   "cell_type": "code",
   "execution_count": 35,
   "metadata": {},
   "outputs": [
    {
     "data": {
      "text/plain": [
       "array([-1.74662608e+01,  4.49153221e+00, -1.73590387e+01,  3.89630702e+01,\n",
       "        8.51402240e+01,  2.85845573e+01,  3.22555114e+01, -1.43463344e+01,\n",
       "        2.39365587e+01, -9.74902284e+00, -4.30012915e+00,  6.31914860e+01,\n",
       "       -1.21398194e+01, -1.01857757e+01,  3.49341124e+01,  9.05947845e+01,\n",
       "       -1.76968574e+01,  3.21592555e+01,  4.11831491e+01,  3.00073466e+01,\n",
       "        3.14371137e+01, -1.56154670e+01,  9.08765678e-01, -1.76276349e+01,\n",
       "        5.79016087e+01,  6.15525924e+01,  5.95020564e+01,  5.85933633e+01,\n",
       "        3.27029478e+01, -1.60160924e+01, -1.61926792e+01, -1.25810375e+01,\n",
       "        3.56849994e+01,  2.41898140e+01,  7.29969602e+01, -1.80579727e+01,\n",
       "        1.56957315e+01,  9.63463189e+00,  5.05499091e+01, -8.75306886e+00,\n",
       "        4.71261358e+01, -1.14023634e+01, -1.47753657e+01, -1.20513244e+01,\n",
       "        1.66359767e+01, -6.36352359e+00,  5.95861946e-01,  9.78793389e+00,\n",
       "       -1.56605810e+01, -1.78494922e+01, -1.23526282e+01, -1.34257987e+01,\n",
       "       -1.54630877e+01,  1.80275309e+01,  7.04319711e+01,  1.03218887e+01,\n",
       "        1.75238000e+01, -1.58390567e+01, -7.30029214e+00, -1.27391001e-02,\n",
       "        3.58209530e+01,  5.05637148e+00,  5.60845033e+01,  2.28489526e+01,\n",
       "        4.49534896e+01,  8.04845534e+00,  8.56879160e+01, -1.23527447e+01,\n",
       "        1.30127788e+01,  3.53066885e+01,  6.78310027e+01,  2.58009664e+01,\n",
       "        1.43364492e+01,  1.85321345e+01,  2.54016875e+00, -1.69999896e+01,\n",
       "       -1.65308423e+01,  1.42778514e+00, -1.40148752e+01, -1.09324533e+01,\n",
       "       -1.38942204e+01,  6.59100026e-01,  6.59510101e+01,  3.47282673e+01,\n",
       "       -9.19760679e+00,  2.27012745e+00, -4.14967147e+00,  1.14111966e+01,\n",
       "       -1.50283956e+01,  2.45796587e+01,  7.68054246e+01, -1.42049103e+01,\n",
       "       -1.37685669e+01,  7.01963883e+00, -1.68362639e+01, -2.37034739e-01,\n",
       "       -9.80020641e+00,  1.07244754e+01,  5.69188654e+01,  6.26552348e+01,\n",
       "       -1.14950411e+01,  5.97962583e+01,  7.75898912e+01, -1.16090042e+01,\n",
       "       -1.33297638e+01, -3.34676056e+00,  5.66643230e-01,  1.20995181e+01,\n",
       "       -1.01206426e+01,  2.10574958e+01, -1.42496975e+01,  8.44765179e+01,\n",
       "        9.74124485e+00, -6.95542123e+00,  7.15234742e+01,  3.06919595e+01,\n",
       "       -1.51414588e+01,  4.73177323e+00,  7.21693186e+01,  1.88475876e+01,\n",
       "        3.07344686e+01,  7.64550560e+01, -1.59515215e+01,  9.02166923e+01,\n",
       "       -1.60367775e+01, -1.07936317e+01,  2.50509467e+01,  4.79178304e+01,\n",
       "       -1.35082290e+01,  3.94876340e+01,  4.60599198e+01,  2.03410426e+01,\n",
       "        5.47207671e+00,  6.44444305e+01, -1.74421533e+01,  3.51094575e+01,\n",
       "       -1.09622772e+01, -7.60586446e+00, -6.51362588e+00, -5.60367253e+00,\n",
       "       -1.49798117e+01, -1.60297395e+01,  5.57845540e+01,  6.74814272e+01,\n",
       "       -3.31278703e+00, -4.00524355e+00,  1.95167696e+01, -1.58853937e+01,\n",
       "        2.31449203e+01, -1.38520489e+01,  1.14613455e+01,  9.24736441e+00,\n",
       "       -1.12966458e+01,  2.61845149e+01, -1.86405437e-02,  8.50474974e+00,\n",
       "       -1.14294714e+01,  8.95468644e+01,  7.79955376e+00, -1.40176021e+01,\n",
       "        2.14952796e+01, -7.04491071e+00, -8.60070043e+00, -5.47163181e+00,\n",
       "        8.46716272e+01,  2.12151088e+01,  7.80460266e+00, -1.64593075e+01,\n",
       "        7.30430325e+01, -2.99312355e+00,  2.72285578e+00,  3.59689492e+01,\n",
       "       -4.53792362e+00, -1.73678491e+01, -8.02974181e+00, -5.63011209e+00,\n",
       "       -8.56977671e+00,  2.13401095e+01, -1.37679859e+01,  4.77581496e+01,\n",
       "        2.13385648e+01,  5.37630706e+00,  7.38589088e+01, -1.17283534e+01,\n",
       "       -1.78326762e+01,  6.96310500e+01,  1.03690505e+01,  3.47031203e+00,\n",
       "       -1.38986624e+01,  1.57027435e+01, -4.19702120e+00,  7.38051495e+00,\n",
       "       -1.78461076e+01,  4.74743867e+00,  3.46849294e+01,  4.52457630e+01,\n",
       "       -2.62021256e+00, -1.77430430e+01,  2.64643215e+01,  4.01294841e+00])"
      ]
     },
     "execution_count": 35,
     "metadata": {},
     "output_type": "execute_result"
    }
   ],
   "source": [
    "predicted_outputSigmoid = regressionSigmoid.predict (input_test)\n",
    "predicted_outputSigmoid"
   ]
  },
  {
   "cell_type": "code",
   "execution_count": 36,
   "metadata": {},
   "outputs": [
    {
     "data": {
      "text/plain": [
       "973.1927131579426"
      ]
     },
     "execution_count": 36,
     "metadata": {},
     "output_type": "execute_result"
    }
   ],
   "source": [
    "mseSigmoid = mean_squared_error (predicted_outputSigmoid, target_test)\n",
    "mseSigmoid"
   ]
  },
  {
   "cell_type": "code",
   "execution_count": 37,
   "metadata": {},
   "outputs": [
    {
     "data": {
      "text/plain": [
       "SVR(kernel='poly')"
      ]
     },
     "execution_count": 37,
     "metadata": {},
     "output_type": "execute_result"
    }
   ],
   "source": [
    "regressionPoly = SVR (kernel = 'poly')\n",
    "regressionPoly.fit (input_train, target_train)"
   ]
  },
  {
   "cell_type": "code",
   "execution_count": 38,
   "metadata": {},
   "outputs": [
    {
     "data": {
      "text/plain": [
       "array([6.96323195, 6.93721572, 6.96133515, 7.23386584, 6.10937775,\n",
       "       6.94405575, 6.93290255, 6.95794194, 7.0079391 , 6.96488201,\n",
       "       6.94674641, 6.73896126, 6.97179151, 6.96450889, 7.20167246,\n",
       "       5.68084689, 7.01719704, 7.18065607, 6.93126123, 6.93373266,\n",
       "       7.14605626, 6.95009828, 6.94546183, 6.9506486 , 6.79818328,\n",
       "       6.61700775, 7.14647246, 7.16750575, 7.07825218, 6.9657753 ,\n",
       "       7.00141228, 6.95874322, 6.93126117, 6.93237604, 6.83263439,\n",
       "       6.96535694, 6.93411529, 6.93671519, 7.01929858, 6.95262378,\n",
       "       7.14539991, 6.94695859, 6.97592873, 6.97458497, 7.00482242,\n",
       "       6.94547293, 6.94351204, 7.08530731, 6.97769459, 6.97779122,\n",
       "       6.96507503, 7.03216558, 6.99247335, 7.0346927 , 7.10359083,\n",
       "       6.94913871, 6.90850597, 6.97523806, 6.98557979, 6.94784329,\n",
       "       6.93226989, 6.94610001, 6.99919441, 7.09795937, 6.75527377,\n",
       "       6.93586662, 6.26449574, 6.95339365, 6.93424805, 6.81605369,\n",
       "       6.36257847, 6.9334633 , 7.04120898, 6.93063053, 7.12646311,\n",
       "       6.95627223, 6.98283479, 6.93403639, 6.96378722, 6.96166648,\n",
       "       6.94767757, 6.95365527, 6.4669027 , 7.14408353, 6.9478967 ,\n",
       "       6.95040688, 7.05281344, 6.93681206, 6.94498541, 6.95473741,\n",
       "       6.07717937, 6.95694003, 7.0292305 , 7.12201204, 7.01073767,\n",
       "       6.98477915, 6.98201601, 6.96387817, 6.87204244, 6.60575012,\n",
       "       6.96098017, 6.66816421, 6.46114575, 6.95620674, 7.03670353,\n",
       "       6.94315307, 6.95186986, 6.93508078, 6.97542074, 7.17170261,\n",
       "       7.04812177, 6.56521781, 6.93955116, 6.94537096, 6.41818362,\n",
       "       6.86252569, 7.02061517, 6.94338137, 6.75450985, 6.93471439,\n",
       "       7.13941422, 6.68142463, 6.95078114, 5.16047746, 6.94313814,\n",
       "       6.95041449, 6.93401569, 6.89068946, 6.94915329, 7.13091273,\n",
       "       7.22866491, 6.9332521 , 6.94491152, 7.09919083, 6.99540407,\n",
       "       6.93178802, 6.95640761, 6.958516  , 6.95815569, 6.9524485 ,\n",
       "       6.98601524, 6.97624796, 6.59067371, 6.60103894, 7.06217437,\n",
       "       7.09962662, 6.93842008, 6.99938203, 7.16407746, 6.9544419 ,\n",
       "       7.07912471, 7.05922732, 6.96298588, 6.93589319, 6.94599625,\n",
       "       6.94272615, 6.97342901, 6.34123804, 6.93980876, 6.95482872,\n",
       "       7.11840616, 7.00318569, 6.95088663, 6.95794445, 6.18248643,\n",
       "       7.02205927, 6.9404547 , 6.99540012, 6.74625273, 7.03450094,\n",
       "       7.02940534, 6.93158207, 6.95458016, 6.94693202, 6.96682147,\n",
       "       7.02822837, 6.96199638, 7.14994836, 7.01663168, 6.93041132,\n",
       "       6.93458851, 6.93952652, 6.27445139, 7.05471476, 6.99723532,\n",
       "       6.78949369, 6.93501456, 6.94048284, 7.0429878 , 6.93462724,\n",
       "       7.08343019, 6.93554775, 6.96844138, 6.97501111, 6.93122698,\n",
       "       6.92499248, 6.9401899 , 6.99079475, 7.06372627, 6.94808815])"
      ]
     },
     "execution_count": 38,
     "metadata": {},
     "output_type": "execute_result"
    }
   ],
   "source": [
    "predicted_outputPoly = regressionPoly.predict (input_test)\n",
    "predicted_outputPoly"
   ]
  },
  {
   "cell_type": "code",
   "execution_count": 39,
   "metadata": {},
   "outputs": [
    {
     "data": {
      "text/plain": [
       "3.003310216877027"
      ]
     },
     "execution_count": 39,
     "metadata": {},
     "output_type": "execute_result"
    }
   ],
   "source": [
    "msePoly = mean_squared_error (predicted_outputPoly, target_test)\n",
    "msePoly"
   ]
  },
  {
   "cell_type": "code",
   "execution_count": 40,
   "metadata": {},
   "outputs": [
    {
     "name": "stdout",
     "output_type": "stream",
     "text": [
      "[7.64545455 5.69090909 7.78181818 7.37272727 6.94545455 7.02727273\n",
      " 7.00909091 7.17272727 6.40909091 7.49090909 6.3        7.\n",
      " 7.25454545 7.1        7.10909091 6.35454545 7.30909091 7.8\n",
      " 6.94545455 7.11818182 7.46363636 7.79090909 6.47272727 6.85454545\n",
      " 6.2        6.29090909 5.95454545 6.08181818 7.         7.23636364\n",
      " 7.58181818 7.34545455 6.48181818 7.42727273 7.16363636 7.14545455\n",
      " 6.44545455 7.5        7.12727273 7.76363636 5.98181818 7.08181818\n",
      " 7.41818182 7.85454545 6.96363636 7.31818182 7.97272727 7.3\n",
      " 7.74545455 7.15454545 7.10909091 7.32727273 7.46363636 6.77272727\n",
      " 7.         7.48181818 7.28181818 6.81818182 6.39090909 7.97272727\n",
      " 6.48181818 6.38181818 6.29090909 6.63636364 6.3        6.30909091\n",
      " 6.94545455 7.67272727 6.74545455 6.63636364 5.80909091 5.77272727\n",
      " 7.5        6.60909091 6.73636364 7.52727273 7.55454545 6.75454545\n",
      " 7.47272727 7.09090909 7.1        6.47272727 7.00909091 7.08181818\n",
      " 6.62727273 7.92727273 6.8        7.46363636 7.56363636 6.72727273\n",
      " 6.81818182 7.29090909 6.89090909 7.68181818 6.55454545 6.43636364\n",
      " 6.87272727 6.99090909 6.23636364 6.43636364 7.61818182 6.36363636\n",
      " 6.65454545 6.91818182 7.52727273 6.73636364 6.15454545 6.88181818\n",
      " 7.35454545 6.54545455 7.05454545 6.75454545 6.32727273 7.88181818\n",
      " 7.42727273 7.56363636 7.09090909 7.42727273 7.36363636 7.3\n",
      " 7.77272727 6.56363636 6.81818182 6.35454545 7.5        7.12727273\n",
      " 5.63636364 6.49090909 6.91818182 7.18181818 6.07272727 6.30909091\n",
      " 6.16363636 7.5        6.94545455 7.12727273 7.33636364 6.50909091\n",
      " 7.28181818 7.28181818 8.02727273 7.44545455 6.57272727 6.31818182\n",
      " 7.18181818 6.70909091 7.32727273 6.81818182 6.46363636 7.12727273\n",
      " 7.24545455 7.22727273 7.08181818 6.32727273 5.81818182 6.82727273\n",
      " 7.48181818 6.35454545 6.48181818 7.84545455 6.55454545 6.65454545\n",
      " 8.10909091 6.3        6.75454545 6.48181818 7.7        7.36363636\n",
      " 6.91818182 7.3        7.09090909 6.76363636 7.06363636 7.39090909\n",
      " 6.05454545 7.         8.10909091 6.3        7.63636364 7.59090909\n",
      " 6.04545455 5.77272727 6.74545455 6.90909091 7.15454545 6.86363636\n",
      " 7.5        7.77272727 7.23636364 6.98181818 7.24545455 6.70909091\n",
      " 7.24545455 6.89090909 7.17272727 6.69090909 6.81818182 7.29090909\n",
      " 6.98181818 7.77272727]\n"
     ]
    }
   ],
   "source": [
    "from sklearn.neighbors import KNeighborsRegressor\n",
    "knn_model = KNeighborsRegressor (n_neighbors = 11)\n",
    "knn_model.fit(input_train, target_train)\n",
    "output_regressor = knn_model.predict(input_test)\n",
    "print(output_regressor)"
   ]
  },
  {
   "cell_type": "code",
   "execution_count": 41,
   "metadata": {},
   "outputs": [
    {
     "data": {
      "text/plain": [
       "3.305971900826446"
      ]
     },
     "execution_count": 41,
     "metadata": {},
     "output_type": "execute_result"
    }
   ],
   "source": [
    "from sklearn.metrics import mean_squared_error\n",
    "mse = mean_squared_error (output_regressor,target_test)\n",
    "mse\n"
   ]
  },
  {
   "cell_type": "code",
   "execution_count": 50,
   "metadata": {},
   "outputs": [
    {
     "name": "stdout",
     "output_type": "stream",
     "text": [
      "[6.6 4.1 9.6 6.2 6.6 8.  7.9 5.4 5.  7.6 6.  9.4 9.4 7.6 5.4 8.7 7.5 4.2\n",
      " 7.2 9.6 9.5 5.9 5.1 5.6 9.3 4.2 7.4 9.3 5.3 7.7 9.2 4.  4.1 5.8 9.1 4.9\n",
      " 5.6 5.6 8.1 9.1 8.1 6.4 7.4 8.8 5.3 8.5 6.9 9.5 7.1 6.  9.5 6.7 7.7 6.6\n",
      " 8.  5.2 8.5 6.7 6.1 8.9 8.4 6.8 6.  4.8 5.8 4.1 8.1 4.6 6.8 4.5 4.7 4.\n",
      " 6.4 9.8 5.9 6.2 8.  8.4 6.7 7.2 4.3 8.6 7.2 4.5 4.1 9.6 8.8 7.3 5.3 4.8\n",
      " 5.2 9.1 4.3 9.7 8.6 5.6 4.1 4.3 4.3 9.4 6.9 5.2 6.3 9.8 9.3 5.5 7.3 4.4\n",
      " 4.9 8.  5.3 9.3 6.1 8.8 4.3 8.5 5.6 7.  9.5 4.5 9.5 8.5 7.7 8.7 4.8 6.\n",
      " 4.4 5.5 7.5 5.1 4.5 4.7 6.8 7.5 5.6 7.2 8.1 6.1 7.9 6.8 9.  7.9 6.  5.7\n",
      " 4.8 7.  9.3 7.7 4.4 5.4 7.9 9.9 6.4 9.3 6.4 9.5 9.  8.  7.6 4.9 8.  6.1\n",
      " 6.5 8.9 9.  6.9 9.  9.  9.1 7.  8.4 7.2 6.4 6.6 5.9 8.3 6.5 8.6 6.7 8.2\n",
      " 4.7 6.2 8.7 7.9 7.5 8.7 5.  4.9 4.3 7.3 7.  7.8 9.8 4.5 7.2 5.5 6.2 7.5\n",
      " 5.6 7.7]\n"
     ]
    }
   ],
   "source": [
    "from sklearn.neighbors import KNeighborsRegressor\n",
    "knn_model = KNeighborsRegressor (n_neighbors = 1)\n",
    "knn_model.fit(input_train, target_train)\n",
    "output_regressor = knn_model.predict(input_test)\n",
    "print(output_regressor)"
   ]
  },
  {
   "cell_type": "code",
   "execution_count": 43,
   "metadata": {},
   "outputs": [
    {
     "data": {
      "text/plain": [
       "3.305971900826446"
      ]
     },
     "execution_count": 43,
     "metadata": {},
     "output_type": "execute_result"
    }
   ],
   "source": [
    "from sklearn.metrics import mean_squared_error\n",
    "mse = mean_squared_error (output_regressor,target_test)\n",
    "mse\n"
   ]
  },
  {
   "cell_type": "code",
   "execution_count": 51,
   "metadata": {},
   "outputs": [
    {
     "name": "stdout",
     "output_type": "stream",
     "text": [
      "[7.64545455 5.69090909 7.78181818 7.37272727 6.94545455 7.02727273\n",
      " 7.00909091 7.17272727 6.40909091 7.49090909 6.3        7.\n",
      " 7.25454545 7.1        7.10909091 6.35454545 7.30909091 7.8\n",
      " 6.94545455 7.11818182 7.46363636 7.79090909 6.47272727 6.85454545\n",
      " 6.2        6.29090909 5.95454545 6.08181818 7.         7.23636364\n",
      " 7.58181818 7.34545455 6.48181818 7.42727273 7.16363636 7.14545455\n",
      " 6.44545455 7.5        7.12727273 7.76363636 5.98181818 7.08181818\n",
      " 7.41818182 7.85454545 6.96363636 7.31818182 7.97272727 7.3\n",
      " 7.74545455 7.15454545 7.10909091 7.32727273 7.46363636 6.77272727\n",
      " 7.         7.48181818 7.28181818 6.81818182 6.39090909 7.97272727\n",
      " 6.48181818 6.38181818 6.29090909 6.63636364 6.3        6.30909091\n",
      " 6.94545455 7.67272727 6.74545455 6.63636364 5.80909091 5.77272727\n",
      " 7.5        6.60909091 6.73636364 7.52727273 7.55454545 6.75454545\n",
      " 7.47272727 7.09090909 7.1        6.47272727 7.00909091 7.08181818\n",
      " 6.62727273 7.92727273 6.8        7.46363636 7.56363636 6.72727273\n",
      " 6.81818182 7.29090909 6.89090909 7.68181818 6.55454545 6.43636364\n",
      " 6.87272727 6.99090909 6.23636364 6.43636364 7.61818182 6.36363636\n",
      " 6.65454545 6.91818182 7.52727273 6.73636364 6.15454545 6.88181818\n",
      " 7.35454545 6.54545455 7.05454545 6.75454545 6.32727273 7.88181818\n",
      " 7.42727273 7.56363636 7.09090909 7.42727273 7.36363636 7.3\n",
      " 7.77272727 6.56363636 6.81818182 6.35454545 7.5        7.12727273\n",
      " 5.63636364 6.49090909 6.91818182 7.18181818 6.07272727 6.30909091\n",
      " 6.16363636 7.5        6.94545455 7.12727273 7.33636364 6.50909091\n",
      " 7.28181818 7.28181818 8.02727273 7.44545455 6.57272727 6.31818182\n",
      " 7.18181818 6.70909091 7.32727273 6.81818182 6.46363636 7.12727273\n",
      " 7.24545455 7.22727273 7.08181818 6.32727273 5.81818182 6.82727273\n",
      " 7.48181818 6.35454545 6.48181818 7.84545455 6.55454545 6.65454545\n",
      " 8.10909091 6.3        6.75454545 6.48181818 7.7        7.36363636\n",
      " 6.91818182 7.3        7.09090909 6.76363636 7.06363636 7.39090909\n",
      " 6.05454545 7.         8.10909091 6.3        7.63636364 7.59090909\n",
      " 6.04545455 5.77272727 6.74545455 6.90909091 7.15454545 6.86363636\n",
      " 7.5        7.77272727 7.23636364 6.98181818 7.24545455 6.70909091\n",
      " 7.24545455 6.89090909 7.17272727 6.69090909 6.81818182 7.29090909\n",
      " 6.98181818 7.77272727]\n"
     ]
    }
   ],
   "source": [
    "from sklearn.neighbors import KNeighborsRegressor\n",
    "knn_model = KNeighborsRegressor (n_neighbors = 11)\n",
    "knn_model.fit(input_train, target_train)\n",
    "output_regressor = knn_model.predict(input_test)\n",
    "print(output_regressor)"
   ]
  },
  {
   "cell_type": "code",
   "execution_count": 45,
   "metadata": {},
   "outputs": [
    {
     "data": {
      "text/plain": [
       "3.151972"
      ]
     },
     "execution_count": 45,
     "metadata": {},
     "output_type": "execute_result"
    }
   ],
   "source": [
    "from sklearn.metrics import mean_squared_error\n",
    "mse = mean_squared_error (output_regressor,target_test)\n",
    "mse"
   ]
  },
  {
   "cell_type": "code",
   "execution_count": 52,
   "metadata": {},
   "outputs": [
    {
     "name": "stdout",
     "output_type": "stream",
     "text": [
      "[7.67619048 6.26666667 7.67619048 7.28095238 7.19047619 7.2952381\n",
      " 6.79047619 7.13333333 6.63333333 7.24285714 6.91428571 7.07142857\n",
      " 7.4047619  7.17142857 6.92380952 7.0047619  7.27619048 7.32380952\n",
      " 6.54285714 6.6        7.32857143 7.58095238 6.1        6.72380952\n",
      " 6.42857143 6.81904762 6.44761905 6.38095238 6.9047619  6.82857143\n",
      " 7.22380952 7.58095238 6.6047619  7.32380952 7.21428571 7.1047619\n",
      " 7.02857143 7.35714286 6.52857143 7.15714286 6.32857143 7.06190476\n",
      " 7.23333333 7.52380952 7.12380952 7.38571429 7.71428571 7.15238095\n",
      " 7.75238095 7.13333333 7.58095238 7.54761905 7.05238095 6.85714286\n",
      " 6.62857143 7.38571429 7.05714286 7.06666667 6.75238095 7.71428571\n",
      " 6.6047619  6.28571429 6.22380952 6.65714286 6.72857143 6.53333333\n",
      " 7.04761905 7.6952381  6.77142857 7.02380952 6.54285714 6.46666667\n",
      " 6.95238095 6.9952381  6.60952381 7.42857143 6.94761905 6.34761905\n",
      " 7.30952381 7.32380952 7.11904762 6.16190476 6.80952381 7.25238095\n",
      " 6.67619048 7.71428571 6.93333333 7.11428571 6.96666667 6.75714286\n",
      " 6.4        7.53809524 7.27619048 7.42380952 7.21428571 6.58095238\n",
      " 6.73333333 7.39047619 6.37619048 6.86190476 7.36190476 6.54285714\n",
      " 6.4047619  7.1        7.34761905 6.47142857 6.1952381  6.88095238\n",
      " 7.18095238 6.5047619  7.12857143 7.15714286 7.03809524 7.46666667\n",
      " 6.90952381 7.24761905 7.14285714 7.6        6.82857143 7.17619048\n",
      " 7.32857143 6.6047619  7.21428571 7.0047619  7.36190476 7.32380952\n",
      " 6.46666667 6.63333333 6.93809524 7.38095238 6.48095238 5.91428571\n",
      " 6.20952381 6.96666667 6.92857143 6.81428571 6.99047619 6.78571429\n",
      " 7.22857143 6.97142857 7.88571429 7.5952381  6.3952381  6.75714286\n",
      " 7.14285714 7.15714286 7.17619048 7.29047619 6.53809524 7.08095238\n",
      " 7.21428571 7.0047619  7.13333333 6.46666667 6.39047619 6.83333333\n",
      " 7.23333333 7.0047619  6.77142857 7.6047619  6.59047619 6.71428571\n",
      " 7.61904762 7.06666667 7.19047619 6.56666667 7.34285714 7.83809524\n",
      " 7.31428571 6.71904762 6.63809524 6.99047619 7.03333333 7.67619048\n",
      " 6.24285714 6.57142857 7.61904762 6.63809524 7.48095238 6.97142857\n",
      " 5.9952381  6.25714286 6.8        7.00952381 7.13333333 6.55714286\n",
      " 7.30952381 7.71428571 7.27619048 6.55238095 7.04285714 6.83809524\n",
      " 7.2952381  6.83333333 6.8        6.37619048 6.88095238 7.36666667\n",
      " 7.00952381 7.71428571]\n"
     ]
    }
   ],
   "source": [
    "from sklearn.neighbors import KNeighborsRegressor\n",
    "knn_model = KNeighborsRegressor (n_neighbors = 21)\n",
    "knn_model.fit(input_train, target_train)\n",
    "output_regressor = knn_model.predict(input_test)\n",
    "print(output_regressor)"
   ]
  },
  {
   "cell_type": "code",
   "execution_count": 53,
   "metadata": {},
   "outputs": [
    {
     "data": {
      "text/plain": [
       "3.262505668934241"
      ]
     },
     "execution_count": 53,
     "metadata": {},
     "output_type": "execute_result"
    }
   ],
   "source": [
    "from sklearn.metrics import mean_squared_error\n",
    "mse = mean_squared_error (output_regressor,target_test)\n",
    "mse"
   ]
  },
  {
   "cell_type": "code",
   "execution_count": 54,
   "metadata": {},
   "outputs": [
    {
     "name": "stdout",
     "output_type": "stream",
     "text": [
      "[7.41935484 6.10967742 7.41935484 7.16774194 6.81935484 7.11290323\n",
      " 6.73225806 7.10967742 6.8516129  7.34193548 6.7        6.82258065\n",
      " 7.02258065 7.19032258 7.08387097 6.89677419 7.07419355 7.24516129\n",
      " 6.78064516 6.83870968 7.30645161 7.51935484 6.39354839 6.91935484\n",
      " 6.53870968 6.85806452 6.61612903 6.46451613 7.21290323 7.11290323\n",
      " 7.30967742 7.47096774 6.86774194 7.09354839 6.82580645 7.06774194\n",
      " 6.71612903 6.9        6.47096774 7.12580645 6.42580645 7.28709677\n",
      " 7.23548387 7.49032258 7.0483871  7.33548387 7.64516129 7.23870968\n",
      " 7.70967742 7.14193548 7.65483871 7.41612903 6.98709677 6.87419355\n",
      " 6.81290323 7.40645161 6.98709677 7.14193548 6.63870968 7.64516129\n",
      " 6.96129032 6.48709677 6.36129032 6.62903226 6.65483871 6.40967742\n",
      " 6.89677419 7.36129032 6.9        7.37741935 6.72580645 6.38064516\n",
      " 7.24193548 6.96774194 6.86451613 7.29677419 7.25806452 6.76774194\n",
      " 7.38387097 7.2483871  7.08387097 6.39354839 6.94516129 7.22258065\n",
      " 6.80322581 7.64516129 6.9483871  6.99032258 7.22903226 6.88387097\n",
      " 6.86129032 7.51290323 7.1483871  7.25806452 7.11612903 6.88387097\n",
      " 6.88709677 7.1516129  6.48387097 6.82258065 7.34516129 6.7516129\n",
      " 6.90967742 7.28709677 7.39032258 6.64516129 6.20322581 6.69032258\n",
      " 7.50322581 6.72258065 7.22903226 6.81935484 6.77419355 7.3\n",
      " 6.50645161 7.22903226 7.12258065 7.64516129 6.59354839 7.02903226\n",
      " 7.04193548 6.68387097 7.30322581 6.89677419 7.23548387 7.32903226\n",
      " 6.22258065 6.43548387 7.24516129 7.13225806 6.43225806 6.30645161\n",
      " 6.48709677 6.60645161 7.0483871  6.92580645 7.30322581 6.76774194\n",
      " 6.99677419 7.04193548 7.60322581 7.44516129 6.3516129  6.75483871\n",
      " 7.12903226 7.07741935 6.91935484 7.22258065 6.63225806 6.90645161\n",
      " 7.18387097 7.2483871  7.21612903 6.5        6.43870968 6.68387097\n",
      " 7.27096774 6.89677419 6.49677419 7.31290323 6.76774194 6.59032258\n",
      " 7.53870968 7.01612903 6.81935484 6.66129032 7.42580645 7.60967742\n",
      " 6.82580645 6.8483871  6.76774194 6.9        7.03870968 7.41935484\n",
      " 6.53548387 6.71612903 7.53870968 6.76129032 7.47419355 6.83225806\n",
      " 6.30645161 6.28709677 6.82580645 6.72258065 7.14193548 6.91290323\n",
      " 6.9        7.64516129 7.08387097 6.66774194 7.01612903 6.9\n",
      " 7.41935484 6.8516129  6.93548387 7.01935484 6.89032258 7.10967742\n",
      " 6.9        7.64516129]\n"
     ]
    }
   ],
   "source": [
    "from sklearn.neighbors import KNeighborsRegressor\n",
    "knn_model = KNeighborsRegressor (n_neighbors = 31)\n",
    "knn_model.fit(input_train, target_train)\n",
    "output_regressor = knn_model.predict(input_test)\n",
    "print(output_regressor)"
   ]
  },
  {
   "cell_type": "code",
   "execution_count": 55,
   "metadata": {},
   "outputs": [
    {
     "data": {
      "text/plain": [
       "3.275759209157128"
      ]
     },
     "execution_count": 55,
     "metadata": {},
     "output_type": "execute_result"
    }
   ],
   "source": [
    "from sklearn.metrics import mean_squared_error\n",
    "mse = mean_squared_error (output_regressor,target_test)\n",
    "mse"
   ]
  },
  {
   "cell_type": "code",
   "execution_count": 46,
   "metadata": {},
   "outputs": [
    {
     "name": "stdout",
     "output_type": "stream",
     "text": [
      "[ 5.9  4.4  5.7 10.   6.5  5.8  7.9  5.   6.7  8.8  6.3  6.2  9.1  8.6\n",
      "  9.9  6.6  9.8  9.4  8.6  8.4  8.9  4.8  7.   4.2  6.2  5.   9.3  9.5\n",
      "  8.   5.1  8.2  6.7  5.2  4.1  8.   5.5  4.3  5.8  7.7  6.6  9.   4.9\n",
      "  5.6  9.5  6.4  5.4  7.2  8.6  8.2  6.5  7.8  8.5  9.7  7.2  9.5  5.\n",
      "  4.5  7.1  6.   8.4  8.4  8.5  7.8  8.2  4.4  4.4  7.3  6.1  4.8  4.3\n",
      "  4.1  6.3  7.5  5.   9.9  5.1  6.6  4.2  4.9  7.7  4.2  9.9  4.5  8.9\n",
      "  4.4  9.8  8.4  6.1  4.6  5.7  4.2  6.2  8.7  9.3  8.5  5.7  5.9  5.5\n",
      "  6.7  5.1  7.4  5.2  6.5  4.6  8.6  5.3  9.1  4.4  5.4  9.6  9.7  8.4\n",
      "  6.6  4.2  5.1  4.6  8.3  7.9  7.4  5.5  8.8  7.6  5.1  4.5  4.   4.3\n",
      "  6.8  6.2  4.2  8.8 10.   4.9  8.1  9.1  7.4  6.5  6.9  4.9  8.6  7.4\n",
      "  9.7  7.7  4.   5.7  8.5  9.8  9.4  9.2  9.6  4.8  8.4  7.8  7.9  9.8\n",
      "  7.   8.1  9.6  8.7  6.3  5.7  8.6  6.7  6.2  8.8  6.7  6.9  7.3  9.9\n",
      "  7.5  7.4  7.   6.3  8.2  4.1  5.5  7.6  8.6  9.4  7.7  9.5  6.4  5.7\n",
      "  4.7  9.9  8.1  7.3  5.   6.6  9.5  4.7  9.2  4.8  6.   5.5  4.6  6.4\n",
      "  4.2  7.7  7.6  9.5]\n"
     ]
    }
   ],
   "source": [
    "from sklearn.tree import DecisionTreeRegressor\n",
    "dt_model = DecisionTreeRegressor()\n",
    "dt_model.fit(input_train, target_train)\n",
    "output_dt = dt_model.predict(input_test)\n",
    "print(output_dt)"
   ]
  },
  {
   "cell_type": "code",
   "execution_count": 47,
   "metadata": {},
   "outputs": [
    {
     "data": {
      "text/plain": [
       "1.1714584442532026e-30"
      ]
     },
     "execution_count": 47,
     "metadata": {},
     "output_type": "execute_result"
    }
   ],
   "source": [
    "from sklearn.metrics import mean_squared_error\n",
    "mse = mean_squared_error (output_dt,target_test)\n",
    "mse"
   ]
  },
  {
   "cell_type": "code",
   "execution_count": null,
   "metadata": {},
   "outputs": [],
   "source": []
  },
  {
   "cell_type": "code",
   "execution_count": null,
   "metadata": {},
   "outputs": [],
   "source": []
  }
 ],
 "metadata": {
  "kernelspec": {
   "display_name": "Python 3",
   "language": "python",
   "name": "python3"
  },
  "language_info": {
   "codemirror_mode": {
    "name": "ipython",
    "version": 3
   },
   "file_extension": ".py",
   "mimetype": "text/x-python",
   "name": "python",
   "nbconvert_exporter": "python",
   "pygments_lexer": "ipython3",
   "version": "3.8.5"
  }
 },
 "nbformat": 4,
 "nbformat_minor": 4
}
